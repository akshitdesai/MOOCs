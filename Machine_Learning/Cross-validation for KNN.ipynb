{
 "cells": [
  {
   "cell_type": "code",
   "execution_count": 9,
   "metadata": {},
   "outputs": [],
   "source": [
    "import numpy as np\n",
    "import pandas as pd\n",
    "import matplotlib.pyplot as plt\n",
    "\n",
    "from sklearn.model_selection import train_test_split,cross_val_score\n",
    "from sklearn.neighbors import KNeighborsClassifier\n",
    "from sklearn.metrics import accuracy_score\n",
    "from collections import Counter\n",
    "from sklearn import model_selection\n"
   ]
  },
  {
   "cell_type": "code",
   "execution_count": 10,
   "metadata": {},
   "outputs": [
    {
     "name": "stdout",
     "output_type": "stream",
     "text": [
      "          x         y  class\n",
      "0  0.700335 -0.247068    0.0\n",
      "1 -3.950019  2.740080    1.0\n",
      "2  0.150222 -2.157638    1.0\n",
      "3 -1.672050 -0.941519    1.0\n",
      "4  2.560483 -1.846577    1.0\n"
     ]
    }
   ],
   "source": [
    "names = ['x','y','class']\n",
    "\n",
    "df = pd.read_csv('./demo_data/3.concertriccir2.csv',header=None,names=names)\n",
    "print(df.head())\n",
    "\n",
    "x=np.array(df.iloc[:,0:4])\n",
    "y=np.array(df['class'])"
   ]
  },
  {
   "cell_type": "code",
   "execution_count": 16,
   "metadata": {},
   "outputs": [
    {
     "name": "stdout",
     "output_type": "stream",
     "text": [
      "\n",
      "CV accuracy for k=1 is 100%\n",
      "\n",
      "CV accuracy for k=3 is 100%\n",
      "\n",
      "CV accuracy for k=5 is 100%\n",
      "\n",
      "CV accuracy for k=7 is 100%\n",
      "\n",
      "CV accuracy for k=9 is 97%\n",
      "\n",
      "CV accuracy for k=11 is 97%\n",
      "\n",
      "CV accuracy for k=13 is 95%\n",
      "\n",
      "CV accuracy for k=15 is 94%\n",
      "\n",
      "CV accuracy for k=17 is 87%\n",
      "\n",
      "CV accuracy for k=19 is 83%\n",
      "\n",
      "CV accuracy for k=21 is 81%\n",
      "\n",
      "CV accuracy for k=23 is 80%\n",
      "\n",
      "CV accuracy for k=25 is 78%\n",
      "\n",
      "CV accuracy for k=27 is 78%\n",
      "\n",
      "CV accuracy for k=29 is 76%\n"
     ]
    },
    {
     "ename": "NameError",
     "evalue": "name 'KNieghborsClassifier' is not defined",
     "output_type": "error",
     "traceback": [
      "\u001b[1;31m---------------------------------------------------------------------------\u001b[0m",
      "\u001b[1;31mNameError\u001b[0m                                 Traceback (most recent call last)",
      "\u001b[1;32m<ipython-input-16-434eea5368ce>\u001b[0m in \u001b[0;36m<module>\u001b[1;34m\u001b[0m\n\u001b[0;32m     11\u001b[0m     \u001b[0mprint\u001b[0m\u001b[1;33m(\u001b[0m\u001b[1;34m'\\nCV accuracy for k=%d is %d%%'\u001b[0m \u001b[1;33m%\u001b[0m \u001b[1;33m(\u001b[0m\u001b[0mi\u001b[0m\u001b[1;33m,\u001b[0m\u001b[0macc\u001b[0m\u001b[1;33m)\u001b[0m\u001b[1;33m)\u001b[0m\u001b[1;33m\u001b[0m\u001b[1;33m\u001b[0m\u001b[0m\n\u001b[0;32m     12\u001b[0m \u001b[1;33m\u001b[0m\u001b[0m\n\u001b[1;32m---> 13\u001b[1;33m \u001b[0mknn\u001b[0m\u001b[1;33m=\u001b[0m \u001b[0mKNieghborsClassifier\u001b[0m\u001b[1;33m(\u001b[0m\u001b[1;36m1\u001b[0m\u001b[1;33m)\u001b[0m\u001b[1;33m\u001b[0m\u001b[1;33m\u001b[0m\u001b[0m\n\u001b[0m\u001b[0;32m     14\u001b[0m \u001b[0mknn\u001b[0m\u001b[1;33m.\u001b[0m\u001b[0mfit\u001b[0m\u001b[1;33m(\u001b[0m\u001b[0mx_tr\u001b[0m\u001b[1;33m,\u001b[0m\u001b[0my_tr\u001b[0m\u001b[1;33m)\u001b[0m\u001b[1;33m\u001b[0m\u001b[1;33m\u001b[0m\u001b[0m\n\u001b[0;32m     15\u001b[0m \u001b[1;33m\u001b[0m\u001b[0m\n",
      "\u001b[1;31mNameError\u001b[0m: name 'KNieghborsClassifier' is not defined"
     ]
    }
   ],
   "source": [
    "x_1, x_test,  y_1, y_test= model_selection.train_test_split(x,y,test_size=0.3,random_state=0)\n",
    "\n",
    "x_tr, x_cv,   y_tr,y_cv  = model_selection.train_test_split(x_1,y_1, test_size=0.3)\n",
    "\n",
    "for i in range(1,30,2):\n",
    "    knn = KNeighborsClassifier(n_neighbors=i)\n",
    "    knn.fit(x_tr,y_tr)\n",
    "    pred = knn.predict(x_cv)\n",
    "    \n",
    "    acc = accuracy_score(y_cv, pred, normalize=True)*float(100)\n",
    "    print('\\nCV accuracy for k=%d is %d%%' % (i,acc))\n",
    "    \n",
    "knn= KNieghborsClassifier(1)\n",
    "knn.fit(x_tr,y_tr)\n",
    "\n",
    "pred = knn.predict(x_test)\n",
    "acc = accuracy(y_test,pred, normalize=True)*float(100)\n",
    "print('\\n************CV accuracy for k=1 is %d%%' % (acc))"
   ]
  },
  {
   "cell_type": "code",
   "execution_count": 22,
   "metadata": {},
   "outputs": [
    {
     "name": "stdout",
     "output_type": "stream",
     "text": [
      "[array([[ 0.29966543,  1.24706758,  1.        ],\n",
      "       [ 4.95001869, -1.74007953,  0.        ],\n",
      "       [ 0.84977838,  3.1576378 ,  0.        ],\n",
      "       ...,\n",
      "       [ 0.10581956, -2.06995865,  1.        ],\n",
      "       [ 0.15056092, -2.87543489,  1.        ],\n",
      "       [-4.21744335, -0.40081765,  1.        ]]), array([[ 0.29966543,  1.24706758,  1.        ],\n",
      "       [ 4.95001869, -1.74007953,  0.        ],\n",
      "       [ 0.84977838,  3.1576378 ,  0.        ],\n",
      "       ...,\n",
      "       [ 0.10581956, -2.06995865,  1.        ],\n",
      "       [ 0.15056092, -2.87543489,  1.        ],\n",
      "       [-4.21744335, -0.40081765,  1.        ]]), array([[ 0.29966543,  1.24706758,  1.        ],\n",
      "       [ 4.95001869, -1.74007953,  0.        ],\n",
      "       [ 0.84977838,  3.1576378 ,  0.        ],\n",
      "       ...,\n",
      "       [ 0.10581956, -2.06995865,  1.        ],\n",
      "       [ 0.15056092, -2.87543489,  1.        ],\n",
      "       [-4.21744335, -0.40081765,  1.        ]])]\n"
     ]
    },
    {
     "ename": "ValueError",
     "evalue": "The truth value of an array with more than one element is ambiguous. Use a.any() or a.all()",
     "output_type": "error",
     "traceback": [
      "\u001b[1;31m---------------------------------------------------------------------------\u001b[0m",
      "\u001b[1;31mValueError\u001b[0m                                Traceback (most recent call last)",
      "\u001b[1;32m<ipython-input-22-6481487b501d>\u001b[0m in \u001b[0;36m<module>\u001b[1;34m\u001b[0m\n\u001b[0;32m     11\u001b[0m \u001b[0mMSE\u001b[0m \u001b[1;33m=\u001b[0m \u001b[1;33m[\u001b[0m\u001b[1;36m1\u001b[0m\u001b[1;33m-\u001b[0m \u001b[0mx\u001b[0m \u001b[1;32mfor\u001b[0m \u001b[0mc\u001b[0m \u001b[1;32min\u001b[0m \u001b[0mcv_scores\u001b[0m\u001b[1;33m]\u001b[0m\u001b[1;33m\u001b[0m\u001b[1;33m\u001b[0m\u001b[0m\n\u001b[0;32m     12\u001b[0m \u001b[0mprint\u001b[0m\u001b[1;33m(\u001b[0m\u001b[0mMSE\u001b[0m\u001b[1;33m[\u001b[0m\u001b[1;36m1\u001b[0m\u001b[1;33m:\u001b[0m\u001b[1;36m4\u001b[0m\u001b[1;33m]\u001b[0m\u001b[1;33m)\u001b[0m\u001b[1;33m\u001b[0m\u001b[1;33m\u001b[0m\u001b[0m\n\u001b[1;32m---> 13\u001b[1;33m \u001b[0moptimal_k\u001b[0m \u001b[1;33m=\u001b[0m \u001b[0mneighbors\u001b[0m\u001b[1;33m[\u001b[0m\u001b[0mMSE\u001b[0m\u001b[1;33m.\u001b[0m\u001b[0mindex\u001b[0m\u001b[1;33m(\u001b[0m\u001b[0mmin\u001b[0m\u001b[1;33m(\u001b[0m\u001b[0mMSE\u001b[0m\u001b[1;33m)\u001b[0m\u001b[1;33m)\u001b[0m\u001b[1;33m]\u001b[0m\u001b[1;33m\u001b[0m\u001b[1;33m\u001b[0m\u001b[0m\n\u001b[0m\u001b[0;32m     14\u001b[0m \u001b[1;33m\u001b[0m\u001b[0m\n\u001b[0;32m     15\u001b[0m \u001b[0mprint\u001b[0m\u001b[1;33m(\u001b[0m\u001b[1;34m'\\n THe optimal number of neighbors is %d '\u001b[0m \u001b[1;33m%\u001b[0m\u001b[0moptimal_k\u001b[0m\u001b[1;33m)\u001b[0m\u001b[1;33m\u001b[0m\u001b[1;33m\u001b[0m\u001b[0m\n",
      "\u001b[1;31mValueError\u001b[0m: The truth value of an array with more than one element is ambiguous. Use a.any() or a.all()"
     ]
    }
   ],
   "source": [
    "mylist = list(range(0,50))\n",
    "neighbors = list(filter(lambda x:x%2!=0,mylist))\n",
    "\n",
    "cv_scores = []\n",
    "\n",
    "for k in neighbors:\n",
    "    knn = KNeighborsClassifier(n_neighbors=k)\n",
    "    scores = cross_val_score(knn,x_tr,y_tr,cv=10,scoring='accuracy')\n",
    "    cv_scores.append(scores.mean())\n",
    "\n",
    "MSE = [1- x for c in cv_scores]\n",
    "\n",
    "optimal_k = neighbors[MSE.index(min(MSE))]\n",
    "\n",
    "print('\\n THe optimal number of neighbors is %d ' %optimal_k)\n",
    "\n",
    "plt.plot(neighbors,MSE)\n",
    "\n",
    "for xy in zip(neighbors,np.round(MSE,3)):\n",
    "    plt.annotate('(%s,%s)' % xy,xy=xy, textcoords='data')\n",
    "    \n",
    "plt.xlabel('Numbers of Neighbors K')\n",
    "plt.ylabel('Missclasification Error')\n",
    "plt.show()\n",
    "\n",
    "print(\" the misclassification error for k valur is : \", np.round(MSE,3))\n"
   ]
  },
  {
   "cell_type": "code",
   "execution_count": null,
   "metadata": {},
   "outputs": [],
   "source": []
  }
 ],
 "metadata": {
  "kernelspec": {
   "display_name": "Python 3",
   "language": "python",
   "name": "python3"
  },
  "language_info": {
   "codemirror_mode": {
    "name": "ipython",
    "version": 3
   },
   "file_extension": ".py",
   "mimetype": "text/x-python",
   "name": "python",
   "nbconvert_exporter": "python",
   "pygments_lexer": "ipython3",
   "version": "3.7.1"
  }
 },
 "nbformat": 4,
 "nbformat_minor": 2
}
